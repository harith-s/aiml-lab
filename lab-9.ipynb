{
 "cells": [
  {
   "cell_type": "code",
   "execution_count": 1,
   "metadata": {},
   "outputs": [
    {
     "name": "stderr",
     "output_type": "stream",
     "text": [
      "[nltk_data] Downloading package brown to /home/labuser/nltk_data...\n",
      "[nltk_data]   Package brown is already up-to-date!\n",
      "[nltk_data] Downloading package universal_tagset to\n",
      "[nltk_data]     /home/labuser/nltk_data...\n",
      "[nltk_data]   Package universal_tagset is already up-to-date!\n"
     ]
    },
    {
     "data": {
      "text/plain": [
       "True"
      ]
     },
     "execution_count": 1,
     "metadata": {},
     "output_type": "execute_result"
    }
   ],
   "source": [
    "import nltk\n",
    "import numpy as np\n",
    "# Download the Brown corpus and the universal tagset\n",
    "nltk.download(\"brown\")\n",
    "nltk.download('universal_tagset')"
   ]
  },
  {
   "cell_type": "code",
   "execution_count": 2,
   "metadata": {},
   "outputs": [],
   "source": [
    "from nltk.corpus import brown\n",
    "\n",
    "# Get the tagged sentences from the Brown corpus\n",
    "tagged_sentences = brown.tagged_sents(tagset=\"universal\")\n",
    "tagged_sentences = list(tagged_sentences)\n"
   ]
  },
  {
   "cell_type": "code",
   "execution_count": 3,
   "metadata": {},
   "outputs": [],
   "source": [
    "folds = []\n",
    "\n",
    "num_sentences = len(tagged_sentences)\n",
    "\n",
    "for i in range(5):\n",
    "    folds.append(tagged_sentences[i * int(num_sentences / 5) : (i + 1) * int(num_sentences / 5)])"
   ]
  },
  {
   "cell_type": "code",
   "execution_count": 10,
   "metadata": {},
   "outputs": [
    {
     "name": "stdout",
     "output_type": "stream",
     "text": [
      "{'^': 0, 'CONJ': 1, 'PRON': 2, 'NUM': 3, 'ADV': 4, '.': 5, 'NOUN': 6, 'VERB': 7, 'DET': 8, 'ADJ': 9, 'ADP': 10, 'X': 11, 'PRT': 12, '~END~': 13}\n"
     ]
    }
   ],
   "source": [
    "\"\"\"---------------------GLOBAL VARIABLES------------------------\"\"\"\n",
    "states = set()\n",
    "words = set()\n",
    "for sentence in tagged_sentences:\n",
    "    for word in sentence:\n",
    "        states.add(word[1])\n",
    "        words.add(word[0])\n",
    "\n",
    "\n",
    "state_index_mapping = {}\n",
    "word_index_mapping = {}\n",
    "\n",
    "\n",
    "state_index_mapping[\"^\"] = 0\n",
    "word_index_mapping[\"~epsilon~\"] = 0\n",
    "\n",
    "i = 1\n",
    "for state in states:\n",
    "    state_index_mapping[state] = i\n",
    "    i += 1\n",
    "state_index_mapping[\"~END~\"] = i\n",
    "    \n",
    "i = 1\n",
    "for word in words:\n",
    "    word_index_mapping[word] = i\n",
    "    i += 1\n",
    "    \n",
    "n_states = len(states) + 2\n",
    "n_words = len(words) + 1\n",
    "    \n",
    "print(state_index_mapping)\n",
    "\"\"\"---------------------FUNCTIONS------------------------\"\"\"\n",
    "\n",
    "\n",
    "def make_set(folds, fold_num):\n",
    "    train_sentences = []\n",
    "    test_sentences = []\n",
    "    for i in range(5):\n",
    "        if ( i != fold_num ):\n",
    "            train_sentences.extend(folds[i])\n",
    "        else:\n",
    "            test_sentences.extend(folds[i])\n",
    "    \n",
    "    return train_sentences, test_sentences\n",
    "\n",
    "def get_matrices(train_sentences):\n",
    "    \n",
    "    transition_matrix = np.ones((n_states, n_states))\n",
    "    emission_matrix = np.ones((n_states, n_words))\n",
    "\n",
    "    for sentence in train_sentences:\n",
    "        transition_matrix[0][state_index_mapping[sentence[0][1]]] += 1 # for the start\n",
    "        emission_matrix[0][0] += 1\n",
    "        for i in range(len(sentence) - 1):\n",
    "            cur_word = sentence[i]\n",
    "            next_word = sentence[i + 1]\n",
    "            row = state_index_mapping[cur_word[1]]\n",
    "            col = state_index_mapping[next_word[1]]\n",
    "            emission_matrix[row][word_index_mapping[cur_word[0]]] += 1\n",
    "\n",
    "            transition_matrix[row][col] += 1\n",
    "        emission_matrix[col][word_index_mapping[next_word[0]]] += 1\n",
    "        end_state = state_index_mapping[\"~END~\"]\n",
    "        epsilon = word_index_mapping[\"~epsilon~\"]\n",
    "        transition_matrix[col][end_state] += 1\n",
    "        transition_matrix[end_state][epsilon] += 1\n",
    "    \n",
    "\n",
    "    transition_matrix = transition_matrix / np.sum(transition_matrix, axis = 1)\n",
    "    emission_matrix = emission_matrix / np.sum(emission_matrix, axis = 1, keepdims=True)\n",
    "\n",
    "    return transition_matrix, emission_matrix\n",
    "\n"
   ]
  },
  {
   "cell_type": "code",
   "execution_count": 33,
   "metadata": {},
   "outputs": [],
   "source": [
    "def Viterbi(output_sequence: list, transition_matrix: np.ndarray, emission_matrix: np.ndarray):\n",
    "    N = transition_matrix.shape[0]\n",
    "    T = len(output_sequence)\n",
    "    SEQSCORE = np.zeros((N, T))\n",
    "    BACKPTR = np.zeros((N, T))\n",
    "    C = np.zeros(T)\n",
    "    SEQSCORE[0, 0] = 1\n",
    "\n",
    "    for t in range(1, T):\n",
    "        for i in range(N):\n",
    "            max_j = 0\n",
    "            max_val = 0\n",
    "            for j in range(N):\n",
    "                temp = SEQSCORE[j, t - 1] * transition_matrix[j][i] * emission_matrix[j][word_index_mapping[output_sequence[t][0]]]\n",
    "                if max_val < temp: \n",
    "                    max_j = j\n",
    "                    max_val = temp\n",
    "            BACKPTR[i, t] = max_j\n",
    "\n",
    "    C[T-1] = np.argmax(SEQSCORE[:, T - 1])\n",
    "    for i in range(T-2, -1, -1):\n",
    "        BACKPTR[int(C[i + 1]), i + 1]\n",
    "    return C\n"
   ]
  },
  {
   "cell_type": "code",
   "execution_count": 35,
   "metadata": {},
   "outputs": [
    {
     "name": "stdout",
     "output_type": "stream",
     "text": [
      "0.09657258954993155\n",
      "0.09576248191027496\n",
      "0.09556491800308055\n",
      "0.09694394293011581\n",
      "0.09920790355572964\n"
     ]
    }
   ],
   "source": [
    "for fold_num in range(5):\n",
    "    train_sent, test_sent = make_set(folds, fold_num)\n",
    "    transition_matrix, emission_matrix = get_matrices(train_sent)\n",
    "    print(transition_matrix[4][4])\n",
    "    # print(Viterbi(test_sent[0], transition_matrix, emission_matrix))\n",
    "    # break"
   ]
  },
  {
   "cell_type": "code",
   "execution_count": null,
   "metadata": {},
   "outputs": [],
   "source": []
  }
 ],
 "metadata": {
  "kernelspec": {
   "display_name": "Python 3",
   "language": "python",
   "name": "python3"
  },
  "language_info": {
   "codemirror_mode": {
    "name": "ipython",
    "version": 3
   },
   "file_extension": ".py",
   "mimetype": "text/x-python",
   "name": "python",
   "nbconvert_exporter": "python",
   "pygments_lexer": "ipython3",
   "version": "3.10.12"
  }
 },
 "nbformat": 4,
 "nbformat_minor": 4
}
