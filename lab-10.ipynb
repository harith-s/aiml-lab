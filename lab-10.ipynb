{
 "cells": [
  {
   "cell_type": "code",
   "execution_count": 1,
   "metadata": {},
   "outputs": [
    {
     "name": "stderr",
     "output_type": "stream",
     "text": [
      "[nltk_data] Downloading package brown to /home/cs240lab/nltk_data...\n",
      "[nltk_data]   Package brown is already up-to-date!\n",
      "[nltk_data] Downloading package universal_tagset to\n",
      "[nltk_data]     /home/cs240lab/nltk_data...\n",
      "[nltk_data]   Package universal_tagset is already up-to-date!\n"
     ]
    },
    {
     "data": {
      "text/plain": [
       "True"
      ]
     },
     "execution_count": 1,
     "metadata": {},
     "output_type": "execute_result"
    }
   ],
   "source": [
    "import nltk\n",
    "import numpy as np\n",
    "from sklearn.metrics import accuracy_score\n",
    "from sklearn.metrics import classification_report\n",
    "# Download the Brown corpus and the universal tagset\n",
    "nltk.download(\"brown\")\n",
    "nltk.download('universal_tagset')"
   ]
  },
  {
   "cell_type": "code",
   "execution_count": 2,
   "metadata": {},
   "outputs": [],
   "source": [
    "from nltk.corpus import brown\n",
    "\n",
    "# Get the tagged sentences from the Brown corpus\n",
    "tagged_sentences = brown.tagged_sents(tagset=\"universal\")\n",
    "tagged_sentences = list(tagged_sentences)\n"
   ]
  },
  {
   "cell_type": "code",
   "execution_count": 3,
   "metadata": {},
   "outputs": [],
   "source": [
    "folds = []\n",
    "\n",
    "num_sentences = len(tagged_sentences)\n",
    "\n",
    "for i in range(5):\n",
    "    folds.append(tagged_sentences[i * int(num_sentences / 5) : (i + 1) * int(num_sentences / 5)])"
   ]
  },
  {
   "cell_type": "code",
   "execution_count": 4,
   "metadata": {},
   "outputs": [
    {
     "name": "stdout",
     "output_type": "stream",
     "text": [
      "{'START': 0, '.': 1, 'NUM': 2, 'PRT': 3, 'X': 4, 'VERB': 5, 'DET': 6, 'NOUN': 7, 'ADP': 8, 'CONJ': 9, 'ADV': 10, 'PRON': 11, 'ADJ': 12, 'END': 13}\n"
     ]
    }
   ],
   "source": [
    "\"\"\"---------------------GLOBAL VARIABLES------------------------\"\"\"\n",
    "states = set()\n",
    "words = set()\n",
    "for sentence in tagged_sentences:\n",
    "    for word in sentence:\n",
    "        states.add(word[1])\n",
    "        words.add(word[0].lower())\n",
    "\n",
    "\n",
    "state_index_mapping = {}\n",
    "word_index_mapping = {}\n",
    "\n",
    "\n",
    "state_index_mapping[\"START\"] = 0\n",
    "word_index_mapping[\"\"] = 0\n",
    "\n",
    "i = 1\n",
    "for state in states:\n",
    "    state_index_mapping[state] = i\n",
    "    i += 1\n",
    "state_index_mapping[\"END\"] = i\n",
    "    \n",
    "i = 1\n",
    "for word in words:\n",
    "    word_index_mapping[word] = i\n",
    "    i += 1\n",
    "    \n",
    "n_states = len(states) + 2\n",
    "n_words = len(words) + 1\n",
    "\n",
    "inverse_state_mapping = {}\n",
    "for key, value in state_index_mapping.items():\n",
    "    inverse_state_mapping[value] = key\n",
    "    \n",
    "print(state_index_mapping)\n",
    "\"\"\"---------------------FUNCTIONS------------------------\"\"\"\n",
    "\n",
    "\n",
    "def make_set(folds, fold_num):\n",
    "    train_sentences = []\n",
    "    test_sentences = []\n",
    "    for i in range(5):\n",
    "        if ( i != fold_num ):\n",
    "            train_sentences.extend(folds[i])\n",
    "        else:\n",
    "            test_sentences.extend(folds[i])\n",
    "    \n",
    "    return train_sentences, test_sentences\n",
    "\n",
    "def get_matrices(train_sentences):\n",
    "    \n",
    "    transition_matrix = np.ones((n_states, n_states))\n",
    "    emission_matrix = np.ones((n_states, n_words))\n",
    "\n",
    "    for sentence in train_sentences:\n",
    "        transition_matrix[0][state_index_mapping[sentence[0][1]]] += 1 # for the start\n",
    "        emission_matrix[0][0] += 1\n",
    "        for i in range(len(sentence) - 1):\n",
    "            cur_word = sentence[i]\n",
    "            next_word = sentence[i + 1]\n",
    "            row = state_index_mapping[cur_word[1]]\n",
    "            col = state_index_mapping[next_word[1]]\n",
    "            emission_matrix[row][word_index_mapping[cur_word[0].lower()]] += 1\n",
    "\n",
    "            transition_matrix[row][col] += 1\n",
    "        emission_matrix[col][word_index_mapping[next_word[0].lower()]] += 1\n",
    "        end_state = state_index_mapping[\"END\"]\n",
    "        epsilon = word_index_mapping[\"\"]\n",
    "        transition_matrix[col][end_state] += 1\n",
    "        transition_matrix[end_state][epsilon] += 1\n",
    "    \n",
    "\n",
    "    transition_matrix = transition_matrix / np.sum(transition_matrix, axis = 1)\n",
    "    emission_matrix = emission_matrix / np.sum(emission_matrix, axis = 1, keepdims=True)\n",
    "\n",
    "    return transition_matrix, emission_matrix\n",
    "\n"
   ]
  },
  {
   "cell_type": "code",
   "execution_count": 5,
   "metadata": {},
   "outputs": [],
   "source": [
    "def Viterbi(output_sequence: list, transition_matrix: np.ndarray, emission_matrix: np.ndarray):\n",
    "    N = transition_matrix.shape[0]\n",
    "\n",
    "    output_sequence.insert(0, \"\")\n",
    "    T = len(output_sequence) + 1\n",
    "\n",
    "    SEQSCORE = np.zeros((N, T))\n",
    "    BACKPTR = np.zeros((N, T))\n",
    "    SEQSCORE.fill(-np.inf)\n",
    "    C = np.zeros(T)\n",
    "    SEQSCORE[0, 0] = 0\n",
    "\n",
    "    for t in range(1, T):\n",
    "        for i in range(N):\n",
    "            max_j = 0\n",
    "            max_val = -np.inf\n",
    "            for j in range(N):\n",
    "                temp = SEQSCORE[j, t - 1] + transition_matrix[j][i] + emission_matrix[j][word_index_mapping[output_sequence[t - 1].lower()]]\n",
    "                if max_val < temp: \n",
    "                    max_j = j\n",
    "                    max_val = temp\n",
    "            BACKPTR[i, t] = max_j\n",
    "            SEQSCORE[i, t] = max_val\n",
    "\n",
    "    C[T-1] = np.argmax(SEQSCORE[:, T - 1])\n",
    "    for i in range(T-2, -1, -1):\n",
    "        C[i] = BACKPTR[int(C[i + 1]), i + 1]\n",
    "    return C"
   ]
  },
  {
   "cell_type": "code",
   "execution_count": 6,
   "metadata": {},
   "outputs": [
    {
     "name": "stdout",
     "output_type": "stream",
     "text": [
      "0\n",
      "1\n",
      "2\n",
      "3\n",
      "4\n",
      "Accuracy is 0.9231332975080779\n",
      "Classification Report\n"
     ]
    },
    {
     "name": "stderr",
     "output_type": "stream",
     "text": [
      "/usr/local/lib/python3.10/dist-packages/sklearn/metrics/_classification.py:1531: UndefinedMetricWarning: Recall is ill-defined and being set to 0.0 in labels with no true samples. Use `zero_division` parameter to control this behavior.\n",
      "  _warn_prf(average, modifier, f\"{metric.capitalize()} is\", len(result))\n",
      "/usr/local/lib/python3.10/dist-packages/sklearn/metrics/_classification.py:1531: UndefinedMetricWarning: Recall is ill-defined and being set to 0.0 in labels with no true samples. Use `zero_division` parameter to control this behavior.\n",
      "  _warn_prf(average, modifier, f\"{metric.capitalize()} is\", len(result))\n"
     ]
    },
    {
     "name": "stdout",
     "output_type": "stream",
     "text": [
      "              precision    recall  f1-score   support\n",
      "\n",
      "       START       0.00      0.00      0.00         0\n",
      "           .       0.97      1.00      0.99    147565\n",
      "         NUM       0.99      0.76      0.86     14874\n",
      "         PRT       0.90      0.84      0.87     29829\n",
      "           X       0.53      0.18      0.27      1386\n",
      "        VERB       0.96      0.90      0.93    182750\n",
      "         DET       0.91      0.99      0.95    137019\n",
      "        NOUN       0.94      0.88      0.91    275558\n",
      "         ADP       0.91      0.97      0.94    144766\n",
      "        CONJ       0.98      0.99      0.99     38151\n",
      "         ADV       0.88      0.86      0.87     56239\n",
      "        PRON       0.86      0.95      0.91     49334\n",
      "         ADJ       0.86      0.86      0.86     83721\n",
      "         END       0.00      0.00      0.00         0\n",
      "\n",
      "    accuracy                           0.92   1161192\n",
      "   macro avg       0.76      0.73      0.74   1161192\n",
      "weighted avg       0.93      0.92      0.93   1161192\n",
      "\n"
     ]
    },
    {
     "name": "stderr",
     "output_type": "stream",
     "text": [
      "/usr/local/lib/python3.10/dist-packages/sklearn/metrics/_classification.py:1531: UndefinedMetricWarning: Recall is ill-defined and being set to 0.0 in labels with no true samples. Use `zero_division` parameter to control this behavior.\n",
      "  _warn_prf(average, modifier, f\"{metric.capitalize()} is\", len(result))\n"
     ]
    }
   ],
   "source": [
    "total_predicted = []\n",
    "total_actual = []\n",
    "\n",
    "for fold_num in range(5):\n",
    "    print(fold_num)\n",
    "    train_sent, test_sent = make_set(folds, fold_num)\n",
    "    transition_matrix, emission_matrix = get_matrices(train_sent)\n",
    "\n",
    "    transition_matrix = np.log(transition_matrix)\n",
    "    emission_matrix = np.log(emission_matrix)\n",
    "    \n",
    "    for i in range(len(test_sent)):\n",
    "        predicted_classes = Viterbi(list(np.array(test_sent[i])[:, 0]), transition_matrix, emission_matrix)\n",
    "        total_predicted.extend(predicted_classes[1:-1])\n",
    "        \n",
    "        actual = []\n",
    "        for j in range(len(test_sent[i])):\n",
    "            actual.append(state_index_mapping[test_sent[i][j][1]])\n",
    "        total_actual.extend(actual)\n",
    "\n",
    "print(\"Accuracy is\", accuracy_score(total_actual, total_predicted))\n",
    "\n",
    "print(\"Classification Report\")\n",
    "\n",
    "print(classification_report(total_actual, total_predicted, target_names=list(state_index_mapping.keys())))"
   ]
  },
  {
   "cell_type": "code",
   "execution_count": 7,
   "metadata": {},
   "outputs": [
    {
     "data": {
      "text/plain": [
       "<matplotlib.image.AxesImage at 0x71ca59465120>"
      ]
     },
     "execution_count": 7,
     "metadata": {},
     "output_type": "execute_result"
    },
    {
     "data": {
      "image/png": "[encoded data removed]",
      "text/plain": [
       "<Figure size 640x480 with 1 Axes>"
      ]
     },
     "metadata": {},
     "output_type": "display_data"
    }
   ],
   "source": [
    "full_transition_matrix, full_emission_matrix = get_matrices(tagged_sentences)\n",
    "full_emission_matrix = np.log(full_emission_matrix)\n",
    "full_transition_matrix = np.log(full_transition_matrix)\n",
    "import matplotlib.pyplot as plt\n",
    "\n",
    "plt.imshow(full_transition_matrix, cmap='viridis')"
   ]
  },
  {
   "cell_type": "code",
   "execution_count": 8,
   "metadata": {},
   "outputs": [
    {
     "name": "stdout",
     "output_type": "stream",
     "text": [
      "['DET', 'ADJ', 'ADJ', 'NOUN', 'VERB', 'ADP', 'DET', 'ADJ', 'NOUN']\n"
     ]
    }
   ],
   "source": [
    "def get_tags(labels):\n",
    "    tags = []\n",
    "    for i in range(len(labels)):\n",
    "        tags.append(inverse_state_mapping[labels[i]])\n",
    "    return tags\n",
    "\n",
    "def predict_tags(output_sequence: list, transition_matrix: np.ndarray, emission_matrix: np.ndarray):\n",
    "    classes = Viterbi(output_sequence, transition_matrix, emission_matrix)\n",
    "    final_classes = classes[1: -1]\n",
    "\n",
    "    return get_tags(final_classes)\n",
    "\n",
    "sentence = \"The lazy red apple hopped over the active donkey\".split() # Fill the \"sentence\" variable with the sentence you want to find the POS tags\n",
    "print(predict_tags(sentence, full_transition_matrix, full_emission_matrix))"
   ]
  }
 ],
 "metadata": {
  "kernelspec": {
   "display_name": "Python 3",
   "language": "python",
   "name": "python3"
  },
  "language_info": {
   "codemirror_mode": {
    "name": "ipython",
    "version": 3
   },
   "file_extension": ".py",
   "mimetype": "text/x-python",
   "name": "python",
   "nbconvert_exporter": "python",
   "pygments_lexer": "ipython3",
   "version": "3.10.12"
  }
 },
 "nbformat": 4,
 "nbformat_minor": 4
}
